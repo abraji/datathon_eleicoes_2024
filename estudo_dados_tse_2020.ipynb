{
  "nbformat": 4,
  "nbformat_minor": 0,
  "metadata": {
    "colab": {
      "provenance": [],
      "machine_shape": "hm",
      "gpuType": "V28"
    },
    "kernelspec": {
      "name": "python3",
      "display_name": "Python 3"
    },
    "language_info": {
      "name": "python"
    },
    "accelerator": "TPU"
  },
  "cells": [
    {
      "cell_type": "code",
      "execution_count": null,
      "metadata": {
        "id": "M_Kzuj75Vg8E"
      },
      "outputs": [],
      "source": [
        "# -*- coding: utf-8\n",
        "# Reinaldo Chaves (reinaldo@abraji.org.br)\n",
        "# Estudo inicial para o Datathon Abraji/ESPM 2024\n",
        "# Dados das Eleições 2020\n",
        "#"
      ]
    },
    {
      "cell_type": "code",
      "source": [],
      "metadata": {
        "id": "vLIJK6YtYCLb"
      },
      "execution_count": null,
      "outputs": []
    },
    {
      "cell_type": "code",
      "source": [
        "# Habilita o Google Drive local\n",
        "from google.colab import drive\n",
        "drive.mount('/drive')"
      ],
      "metadata": {
        "colab": {
          "base_uri": "https://localhost:8080/"
        },
        "id": "wTVu4lPRVjCT",
        "outputId": "4d950031-ab45-40fa-a3ac-03981589bbd2"
      },
      "execution_count": 1,
      "outputs": [
        {
          "output_type": "stream",
          "name": "stdout",
          "text": [
            "Mounted at /drive\n"
          ]
        }
      ]
    },
    {
      "cell_type": "code",
      "source": [
        "# Instala bibliotecas\n",
        "!pip install unidecode --quiet\n",
        "!pip install openpyxl --quiet"
      ],
      "metadata": {
        "id": "UuBdI1y0Vv6h",
        "colab": {
          "base_uri": "https://localhost:8080/"
        },
        "outputId": "f2780aad-5461-4a6c-eeea-bcb13bc12a42"
      },
      "execution_count": 2,
      "outputs": [
        {
          "output_type": "stream",
          "name": "stdout",
          "text": [
            "\u001b[2K     \u001b[90m━━━━━━━━━━━━━━━━━━━━━━━━━━━━━━━━━━━━━━━━\u001b[0m \u001b[32m235.5/235.5 kB\u001b[0m \u001b[31m2.5 MB/s\u001b[0m eta \u001b[36m0:00:00\u001b[0m\n",
            "\u001b[2K     \u001b[90m━━━━━━━━━━━━━━━━━━━━━━━━━━━━━━━━━━━━━━━━\u001b[0m \u001b[32m250.0/250.0 kB\u001b[0m \u001b[31m2.3 MB/s\u001b[0m eta \u001b[36m0:00:00\u001b[0m\n",
            "\u001b[?25h"
          ]
        }
      ]
    },
    {
      "cell_type": "code",
      "source": [
        "import pandas as pd\n",
        "import unidecode\n",
        "import numpy as np\n",
        "import re\n",
        "import os\n",
        "import glob"
      ],
      "metadata": {
        "id": "TZZa-as9Vw84"
      },
      "execution_count": 3,
      "outputs": []
    },
    {
      "cell_type": "code",
      "source": [
        "# Verifica se os arquivos do TSE estão na pasta do seu computador - substitua pela sua pasta com os arquivos do TSE\n",
        "# Os dados podem ser baixados no Portal de Dados Abertos do TSE - https://dadosabertos.tse.jus.br/dataset/?tags=Ano+2020\n",
        "folder_path = \"/drive/My Drive/Data-driven/abraji/datathon_espm_2024/dados/\"\n",
        "\n",
        "files = glob.glob(os.path.join(folder_path, \"*.*\"))\n",
        "print(\"Found files:\", files)"
      ],
      "metadata": {
        "colab": {
          "base_uri": "https://localhost:8080/"
        },
        "id": "xoGKXqpEWBZB",
        "outputId": "879e7301-13cb-4085-be14-783eac9a3138"
      },
      "execution_count": null,
      "outputs": [
        {
          "output_type": "stream",
          "name": "stdout",
          "text": [
            "Found files: ['/drive/My Drive/Data-driven/abraji/datathon_espm_2024/dados/consulta_cand_2020_BRASIL.csv', '/drive/My Drive/Data-driven/abraji/datathon_espm_2024/dados/bem_candidato_2020_BRASIL.csv', '/drive/My Drive/Data-driven/abraji/datathon_espm_2024/dados/receitas_candidatos_doador_originario_2020_BRASIL.csv', '/drive/My Drive/Data-driven/abraji/datathon_espm_2024/dados/receitas_candidatos_2020_BRASIL.csv', '/drive/My Drive/Data-driven/abraji/datathon_espm_2024/dados/despesas_pagas_candidatos_2020_BRASIL.csv', '/drive/My Drive/Data-driven/abraji/datathon_espm_2024/dados/despesas_contratadas_candidatos_2020_BRASIL.csv']\n"
          ]
        }
      ]
    },
    {
      "cell_type": "code",
      "source": [],
      "metadata": {
        "id": "-gYpFO_5WRKJ"
      },
      "execution_count": null,
      "outputs": []
    },
    {
      "cell_type": "code",
      "source": [],
      "metadata": {
        "id": "MyuVfSuiWTbp"
      },
      "execution_count": 4,
      "outputs": []
    },
    {
      "cell_type": "markdown",
      "source": [
        "# Candidatos 2020"
      ],
      "metadata": {
        "id": "KtlSzF7m2484"
      }
    },
    {
      "cell_type": "code",
      "source": [
        "path = \"/drive/My Drive/Data-driven/abraji/datathon_espm_2024/dados/consulta_cand_2020_BRASIL.csv\"\n",
        "candidatos_2020 = pd.read_csv(path, sep=';', encoding='latin_1', dtype = 'str')\n",
        "candidatos_2020.info()"
      ],
      "metadata": {
        "colab": {
          "base_uri": "https://localhost:8080/"
        },
        "id": "qkK3hNBSWVwr",
        "outputId": "3a47bc3e-2380-410c-a92e-a01ff4cff381"
      },
      "execution_count": null,
      "outputs": [
        {
          "output_type": "stream",
          "name": "stdout",
          "text": [
            "<class 'pandas.core.frame.DataFrame'>\n",
            "RangeIndex: 558741 entries, 0 to 558740\n",
            "Data columns (total 71 columns):\n",
            " #   Column                         Non-Null Count   Dtype \n",
            "---  ------                         --------------   ----- \n",
            " 0   DT_GERACAO                     558741 non-null  object\n",
            " 1   HH_GERACAO                     558741 non-null  object\n",
            " 2   ANO_ELEICAO                    558741 non-null  object\n",
            " 3   CD_TIPO_ELEICAO                558741 non-null  object\n",
            " 4   NM_TIPO_ELEICAO                558741 non-null  object\n",
            " 5   NR_TURNO                       558741 non-null  object\n",
            " 6   CD_ELEICAO                     558741 non-null  object\n",
            " 7   DS_ELEICAO                     558741 non-null  object\n",
            " 8   DT_ELEICAO                     558741 non-null  object\n",
            " 9   TP_ABRANGENCIA                 558741 non-null  object\n",
            " 10  SG_UF                          558741 non-null  object\n",
            " 11  SG_UE                          558741 non-null  object\n",
            " 12  NM_UE                          558741 non-null  object\n",
            " 13  CD_CARGO                       558741 non-null  object\n",
            " 14  DS_CARGO                       558741 non-null  object\n",
            " 15  SQ_CANDIDATO                   558741 non-null  object\n",
            " 16  NR_CANDIDATO                   558741 non-null  object\n",
            " 17  NM_CANDIDATO                   558741 non-null  object\n",
            " 18  NM_URNA_CANDIDATO              558738 non-null  object\n",
            " 19  NM_SOCIAL_CANDIDATO            558741 non-null  object\n",
            " 20  NR_CPF_CANDIDATO               558741 non-null  object\n",
            " 21  NM_EMAIL                       558741 non-null  object\n",
            " 22  CD_SITUACAO_CANDIDATURA        558741 non-null  object\n",
            " 23  DS_SITUACAO_CANDIDATURA        558741 non-null  object\n",
            " 24  CD_DETALHE_SITUACAO_CAND       558741 non-null  object\n",
            " 25  DS_DETALHE_SITUACAO_CAND       558741 non-null  object\n",
            " 26  TP_AGREMIACAO                  558741 non-null  object\n",
            " 27  NR_PARTIDO                     558741 non-null  object\n",
            " 28  SG_PARTIDO                     558741 non-null  object\n",
            " 29  NM_PARTIDO                     558741 non-null  object\n",
            " 30  NR_FEDERACAO                   558741 non-null  object\n",
            " 31  NM_FEDERACAO                   558741 non-null  object\n",
            " 32  SG_FEDERACAO                   558741 non-null  object\n",
            " 33  DS_COMPOSICAO_FEDERACAO        558741 non-null  object\n",
            " 34  SQ_COLIGACAO                   558741 non-null  object\n",
            " 35  NM_COLIGACAO                   558741 non-null  object\n",
            " 36  DS_COMPOSICAO_COLIGACAO        558741 non-null  object\n",
            " 37  CD_NACIONALIDADE               558741 non-null  object\n",
            " 38  DS_NACIONALIDADE               558741 non-null  object\n",
            " 39  SG_UF_NASCIMENTO               558741 non-null  object\n",
            " 40  CD_MUNICIPIO_NASCIMENTO        558741 non-null  object\n",
            " 41  NM_MUNICIPIO_NASCIMENTO        558741 non-null  object\n",
            " 42  DT_NASCIMENTO                  558459 non-null  object\n",
            " 43  NR_IDADE_DATA_POSSE            558459 non-null  object\n",
            " 44  NR_TITULO_ELEITORAL_CANDIDATO  558741 non-null  object\n",
            " 45  CD_GENERO                      558741 non-null  object\n",
            " 46  DS_GENERO                      558741 non-null  object\n",
            " 47  CD_GRAU_INSTRUCAO              558741 non-null  object\n",
            " 48  DS_GRAU_INSTRUCAO              558741 non-null  object\n",
            " 49  CD_ESTADO_CIVIL                558741 non-null  object\n",
            " 50  DS_ESTADO_CIVIL                558741 non-null  object\n",
            " 51  CD_COR_RACA                    558741 non-null  object\n",
            " 52  DS_COR_RACA                    558741 non-null  object\n",
            " 53  CD_OCUPACAO                    558741 non-null  object\n",
            " 54  DS_OCUPACAO                    558741 non-null  object\n",
            " 55  VR_DESPESA_MAX_CAMPANHA        558741 non-null  object\n",
            " 56  CD_SIT_TOT_TURNO               558741 non-null  object\n",
            " 57  DS_SIT_TOT_TURNO               558741 non-null  object\n",
            " 58  ST_REELEICAO                   558741 non-null  object\n",
            " 59  ST_DECLARAR_BENS               558741 non-null  object\n",
            " 60  NR_PROTOCOLO_CANDIDATURA       558741 non-null  object\n",
            " 61  NR_PROCESSO                    558741 non-null  object\n",
            " 62  CD_SITUACAO_CANDIDATO_PLEITO   558741 non-null  object\n",
            " 63  DS_SITUACAO_CANDIDATO_PLEITO   558741 non-null  object\n",
            " 64  CD_SITUACAO_CANDIDATO_URNA     558741 non-null  object\n",
            " 65  DS_SITUACAO_CANDIDATO_URNA     558741 non-null  object\n",
            " 66  ST_CANDIDATO_INSERIDO_URNA     558741 non-null  object\n",
            " 67  NM_TIPO_DESTINACAO_VOTOS       558741 non-null  object\n",
            " 68  CD_SITUACAO_CANDIDATO_TOT      558741 non-null  object\n",
            " 69  DS_SITUACAO_CANDIDATO_TOT      558741 non-null  object\n",
            " 70  ST_PREST_CONTAS                558741 non-null  object\n",
            "dtypes: object(71)\n",
            "memory usage: 302.7+ MB\n"
          ]
        }
      ]
    },
    {
      "cell_type": "code",
      "source": [],
      "metadata": {
        "id": "ePM-CtAhXnwz"
      },
      "execution_count": null,
      "outputs": []
    },
    {
      "cell_type": "code",
      "source": [
        "# Número de candidatos pelo CPF\n",
        "print(len(candidatos_2020['NR_CPF_CANDIDATO'].value_counts()))"
      ],
      "metadata": {
        "colab": {
          "base_uri": "https://localhost:8080/"
        },
        "id": "G-8IZqiZX4JF",
        "outputId": "ad08b8b2-51ba-4f36-a224-bf3bee6a640f"
      },
      "execution_count": null,
      "outputs": [
        {
          "output_type": "stream",
          "name": "stdout",
          "text": [
            "556499\n"
          ]
        }
      ]
    },
    {
      "cell_type": "code",
      "source": [
        "# Número de candidatos pelo número sequencial\n",
        "print(len(candidatos_2020['SQ_CANDIDATO'].value_counts()))"
      ],
      "metadata": {
        "colab": {
          "base_uri": "https://localhost:8080/"
        },
        "id": "UDoVe7fLZfjX",
        "outputId": "38fa05ba-5b96-48b8-f603-4735ccabe269"
      },
      "execution_count": null,
      "outputs": [
        {
          "output_type": "stream",
          "name": "stdout",
          "text": [
            "558509\n"
          ]
        }
      ]
    },
    {
      "cell_type": "code",
      "source": [
        "# Pelo cargo\n",
        "candidatos_2020[\"DS_CARGO\"].unique()"
      ],
      "metadata": {
        "colab": {
          "base_uri": "https://localhost:8080/"
        },
        "id": "9hyRzCVOYEWc",
        "outputId": "f0a735ec-89fa-4858-d543-4dd09491f419"
      },
      "execution_count": null,
      "outputs": [
        {
          "output_type": "execute_result",
          "data": {
            "text/plain": [
              "array(['VEREADOR', 'VICE-PREFEITO', 'PREFEITO'], dtype=object)"
            ]
          },
          "metadata": {},
          "execution_count": 11
        }
      ]
    },
    {
      "cell_type": "code",
      "source": [
        "candidatos_2020['DS_CARGO'].str.contains('PREFEITO').sum()"
      ],
      "metadata": {
        "colab": {
          "base_uri": "https://localhost:8080/"
        },
        "id": "sb679-36YhUF",
        "outputId": "bf61b44e-9f21-4b8e-bdfe-5a59705d10d0"
      },
      "execution_count": null,
      "outputs": [
        {
          "output_type": "execute_result",
          "data": {
            "text/plain": [
              "40090"
            ]
          },
          "metadata": {},
          "execution_count": 14
        }
      ]
    },
    {
      "cell_type": "code",
      "source": [
        "candidatos_2020['DS_CARGO'].str.contains('VEREADOR').sum()"
      ],
      "metadata": {
        "colab": {
          "base_uri": "https://localhost:8080/"
        },
        "id": "BVXaiiVtY_qe",
        "outputId": "20b1c856-442b-458b-b0e6-1b99cea2a2fe"
      },
      "execution_count": null,
      "outputs": [
        {
          "output_type": "execute_result",
          "data": {
            "text/plain": [
              "518651"
            ]
          },
          "metadata": {},
          "execution_count": 15
        }
      ]
    },
    {
      "cell_type": "code",
      "source": [],
      "metadata": {
        "id": "iByJpuN44De6"
      },
      "execution_count": null,
      "outputs": []
    },
    {
      "cell_type": "code",
      "source": [
        "# Exemplo de captura de uma amostra aleatória de dados para trabalho - 50 candidatos"
      ],
      "metadata": {
        "id": "1rpop8X-1gP2"
      },
      "execution_count": null,
      "outputs": []
    },
    {
      "cell_type": "code",
      "source": [
        "#candidatos_50 = candidatos_2020.sample(n=50)"
      ],
      "metadata": {
        "id": "LuMBT1FR4Djr"
      },
      "execution_count": null,
      "outputs": []
    },
    {
      "cell_type": "code",
      "source": [
        "#candidatos_50.shape"
      ],
      "metadata": {
        "colab": {
          "base_uri": "https://localhost:8080/"
        },
        "id": "c8bar2jg5Evk",
        "outputId": "82b9b09e-6abb-4699-feeb-3a7265e30b9c"
      },
      "execution_count": null,
      "outputs": [
        {
          "output_type": "execute_result",
          "data": {
            "text/plain": [
              "(50, 71)"
            ]
          },
          "metadata": {},
          "execution_count": 11
        }
      ]
    },
    {
      "cell_type": "code",
      "source": [
        "#candidatos_50.to_excel('/drive/My Drive/datathon_espm_2024/dados/amostras/50_candidatos_aleatorios_brasil.xlsx',sheet_name='Sheet1',index=False)"
      ],
      "metadata": {
        "id": "L2LFCSfn5Y1C"
      },
      "execution_count": null,
      "outputs": []
    },
    {
      "cell_type": "code",
      "source": [
        "path = \"/drive/My Drive/Data-driven/abraji/datathon_espm_2024/dados/amostras/50_candidatos_aleatorios_brasil.xlsx\"\n",
        "candidatos_50 = pd.read_excel(path, sheet_name = 'Sheet1', dtype = 'str')\n",
        "candidatos_50.shape"
      ],
      "metadata": {
        "colab": {
          "base_uri": "https://localhost:8080/"
        },
        "id": "Ksx7XTg8v1Rc",
        "outputId": "055464a3-3002-4ad2-9ac3-8d1a6fa18953"
      },
      "execution_count": null,
      "outputs": [
        {
          "output_type": "execute_result",
          "data": {
            "text/plain": [
              "(50, 71)"
            ]
          },
          "metadata": {},
          "execution_count": 66
        }
      ]
    },
    {
      "cell_type": "code",
      "source": [],
      "metadata": {
        "id": "RapSZolhZEaN"
      },
      "execution_count": null,
      "outputs": []
    },
    {
      "cell_type": "code",
      "source": [],
      "metadata": {
        "id": "xdXFJaV62-SW"
      },
      "execution_count": null,
      "outputs": []
    },
    {
      "cell_type": "markdown",
      "source": [
        "# Bens candidatos 2020"
      ],
      "metadata": {
        "id": "YPgVw6V52-pm"
      }
    },
    {
      "cell_type": "code",
      "source": [
        "path = \"/drive/My Drive/Data-driven/abraji/datathon_espm_2024/dados/bem_candidato_2020_BRASIL.csv\"\n",
        "bens_candidatos_2020 = pd.read_csv(path, sep=';', encoding='latin_1', dtype = 'str')\n",
        "bens_candidatos_2020.info()"
      ],
      "metadata": {
        "colab": {
          "base_uri": "https://localhost:8080/"
        },
        "id": "Kbm97eggZOKW",
        "outputId": "64c1831a-3843-437e-ae81-6bb6ed4eeba3"
      },
      "execution_count": null,
      "outputs": [
        {
          "output_type": "stream",
          "name": "stdout",
          "text": [
            "<class 'pandas.core.frame.DataFrame'>\n",
            "RangeIndex: 1015183 entries, 0 to 1015182\n",
            "Data columns (total 19 columns):\n",
            " #   Column                 Non-Null Count    Dtype \n",
            "---  ------                 --------------    ----- \n",
            " 0   DT_GERACAO             1015183 non-null  object\n",
            " 1   HH_GERACAO             1015183 non-null  object\n",
            " 2   ANO_ELEICAO            1015183 non-null  object\n",
            " 3   CD_TIPO_ELEICAO        1015183 non-null  object\n",
            " 4   NM_TIPO_ELEICAO        1015183 non-null  object\n",
            " 5   CD_ELEICAO             1015183 non-null  object\n",
            " 6   DS_ELEICAO             1015183 non-null  object\n",
            " 7   DT_ELEICAO             1015183 non-null  object\n",
            " 8   SG_UF                  1015183 non-null  object\n",
            " 9   SG_UE                  1015183 non-null  object\n",
            " 10  NM_UE                  1015183 non-null  object\n",
            " 11  SQ_CANDIDATO           1015183 non-null  object\n",
            " 12  NR_ORDEM_CANDIDATO     1015183 non-null  object\n",
            " 13  CD_TIPO_BEM_CANDIDATO  1015183 non-null  object\n",
            " 14  DS_TIPO_BEM_CANDIDATO  1015183 non-null  object\n",
            " 15  DS_BEM_CANDIDATO       1015183 non-null  object\n",
            " 16  VR_BEM_CANDIDATO       1015183 non-null  object\n",
            " 17  DT_ULTIMA_ATUALIZACAO  1015183 non-null  object\n",
            " 18  HH_ULTIMA_ATUALIZACAO  1015183 non-null  object\n",
            "dtypes: object(19)\n",
            "memory usage: 147.2+ MB\n"
          ]
        }
      ]
    },
    {
      "cell_type": "code",
      "source": [
        "# Transforma coluna de valores em float\n",
        "bens_candidatos_2020['VR_BEM_CANDIDATO'] = bens_candidatos_2020['VR_BEM_CANDIDATO'].str.replace('.', '')     # Remover pontos de milhar\n",
        "bens_candidatos_2020['VR_BEM_CANDIDATO'] = bens_candidatos_2020['VR_BEM_CANDIDATO'].str.replace(',', '.')    # Trocar vírgula por ponto\n",
        "bens_candidatos_2020['VR_BEM_CANDIDATO'] = bens_candidatos_2020['VR_BEM_CANDIDATO'].astype(float)            # Converter para float"
      ],
      "metadata": {
        "id": "8NjkzLQQZV0N"
      },
      "execution_count": null,
      "outputs": []
    },
    {
      "cell_type": "code",
      "source": [],
      "metadata": {
        "id": "1dHrhIdibG63"
      },
      "execution_count": null,
      "outputs": []
    },
    {
      "cell_type": "code",
      "source": [
        "# Cruza candidatos com os bens declarados"
      ],
      "metadata": {
        "id": "tvUXPIsf1w1P"
      },
      "execution_count": null,
      "outputs": []
    },
    {
      "cell_type": "code",
      "source": [
        "# Usa o ID SQ_CANDIDATO\n",
        "candidatos_bens = pd.merge(candidatos_2020, bens_candidatos_2020, left_on='SQ_CANDIDATO', right_on='SQ_CANDIDATO')"
      ],
      "metadata": {
        "id": "UaxrnnxjbTUI"
      },
      "execution_count": null,
      "outputs": []
    },
    {
      "cell_type": "code",
      "source": [
        "# Exemplo de tabela dinâmica com os candidatos e os bens declarados\n",
        "pd.pivot_table(candidatos_bens,index=[\"NM_CANDIDATO\",\"NR_CPF_CANDIDATO\", \"SQ_CANDIDATO\", \"DS_CARGO\", \"SG_UF_x\", \"NM_UE_x\"], values=[\"VR_BEM_CANDIDATO\"], aggfunc=np.sum)"
      ],
      "metadata": {
        "colab": {
          "base_uri": "https://localhost:8080/",
          "height": 455
        },
        "id": "uj08FhgRblIw",
        "outputId": "33265379-a3a3-439b-cf2b-cb505569e73a"
      },
      "execution_count": null,
      "outputs": [
        {
          "output_type": "execute_result",
          "data": {
            "text/plain": [
              "                                                                                                                        VR_BEM_CANDIDATO\n",
              "NM_CANDIDATO                                 NR_CPF_CANDIDATO SQ_CANDIDATO DS_CARGO      SG_UF_x NM_UE_x                                \n",
              "AARAO CRUZ MENDES                            13178547304      180000950074 PREFEITO      PI      BENEDITINOS                  1900779.70\n",
              "AARÃO DE MOURA BRITO NETO                    58270876704      190001013741 PREFEITO      RJ      MANGARATIBA                   966331.98\n",
              "AARÃO SANTOS NOVAIS                          33755936860      250001086889 VEREADOR      SP      SANTANA DE PARNAÍBA            13700.00\n",
              "ABADIA ALVES DIAS                            93033915191      90000915793  VEREADOR      GO      URUAÇU                        260000.00\n",
              "ABADIA DE FATIMA GARCEZ DE MENDONCA CASTELAR 35091649115      90000979826  VICE-PREFEITO GO      ALTO PARAÍSO DE GOIÁS         400000.00\n",
              "...                                                                                                                                  ...\n",
              "ÍTALO VICTOR GOMES SILVESTRE DOS SANTOS      02644695503      50000957779  VEREADOR      BA      PAULO AFONSO                   37408.00\n",
              "ÍVAI NEPOMUCENO FERREIRA                     45986029968      160000834689 VEREADOR      PR      SANTA IZABEL DO OESTE         245000.00\n",
              "ÓSIO DE JESUS DE SOUSA SAMPAIO               07657234253      140001148320 VICE-PREFEITO PA      TERRA ALTA                    234000.00\n",
              "ÔNIO EMMANUEL LYRA                           67584640400      150000941706 PREFEITO      PB      ESPERANÇA                     360000.00\n",
              "ÚRSULA MARIA BARBOSA NUNES                   02970351420      170001175831 VEREADOR      PE      LIMOEIRO                       65500.00\n",
              "\n",
              "[340885 rows x 1 columns]"
            ],
            "text/html": [
              "\n",
              "  <div id=\"df-ace957d2-f78e-4018-94a8-7e9f77922c37\" class=\"colab-df-container\">\n",
              "    <div>\n",
              "<style scoped>\n",
              "    .dataframe tbody tr th:only-of-type {\n",
              "        vertical-align: middle;\n",
              "    }\n",
              "\n",
              "    .dataframe tbody tr th {\n",
              "        vertical-align: top;\n",
              "    }\n",
              "\n",
              "    .dataframe thead th {\n",
              "        text-align: right;\n",
              "    }\n",
              "</style>\n",
              "<table border=\"1\" class=\"dataframe\">\n",
              "  <thead>\n",
              "    <tr style=\"text-align: right;\">\n",
              "      <th></th>\n",
              "      <th></th>\n",
              "      <th></th>\n",
              "      <th></th>\n",
              "      <th></th>\n",
              "      <th></th>\n",
              "      <th>VR_BEM_CANDIDATO</th>\n",
              "    </tr>\n",
              "    <tr>\n",
              "      <th>NM_CANDIDATO</th>\n",
              "      <th>NR_CPF_CANDIDATO</th>\n",
              "      <th>SQ_CANDIDATO</th>\n",
              "      <th>DS_CARGO</th>\n",
              "      <th>SG_UF_x</th>\n",
              "      <th>NM_UE_x</th>\n",
              "      <th></th>\n",
              "    </tr>\n",
              "  </thead>\n",
              "  <tbody>\n",
              "    <tr>\n",
              "      <th>AARAO CRUZ MENDES</th>\n",
              "      <th>13178547304</th>\n",
              "      <th>180000950074</th>\n",
              "      <th>PREFEITO</th>\n",
              "      <th>PI</th>\n",
              "      <th>BENEDITINOS</th>\n",
              "      <td>1900779.70</td>\n",
              "    </tr>\n",
              "    <tr>\n",
              "      <th>AARÃO DE MOURA BRITO NETO</th>\n",
              "      <th>58270876704</th>\n",
              "      <th>190001013741</th>\n",
              "      <th>PREFEITO</th>\n",
              "      <th>RJ</th>\n",
              "      <th>MANGARATIBA</th>\n",
              "      <td>966331.98</td>\n",
              "    </tr>\n",
              "    <tr>\n",
              "      <th>AARÃO SANTOS NOVAIS</th>\n",
              "      <th>33755936860</th>\n",
              "      <th>250001086889</th>\n",
              "      <th>VEREADOR</th>\n",
              "      <th>SP</th>\n",
              "      <th>SANTANA DE PARNAÍBA</th>\n",
              "      <td>13700.00</td>\n",
              "    </tr>\n",
              "    <tr>\n",
              "      <th>ABADIA ALVES DIAS</th>\n",
              "      <th>93033915191</th>\n",
              "      <th>90000915793</th>\n",
              "      <th>VEREADOR</th>\n",
              "      <th>GO</th>\n",
              "      <th>URUAÇU</th>\n",
              "      <td>260000.00</td>\n",
              "    </tr>\n",
              "    <tr>\n",
              "      <th>ABADIA DE FATIMA GARCEZ DE MENDONCA CASTELAR</th>\n",
              "      <th>35091649115</th>\n",
              "      <th>90000979826</th>\n",
              "      <th>VICE-PREFEITO</th>\n",
              "      <th>GO</th>\n",
              "      <th>ALTO PARAÍSO DE GOIÁS</th>\n",
              "      <td>400000.00</td>\n",
              "    </tr>\n",
              "    <tr>\n",
              "      <th>...</th>\n",
              "      <th>...</th>\n",
              "      <th>...</th>\n",
              "      <th>...</th>\n",
              "      <th>...</th>\n",
              "      <th>...</th>\n",
              "      <td>...</td>\n",
              "    </tr>\n",
              "    <tr>\n",
              "      <th>ÍTALO VICTOR GOMES SILVESTRE DOS SANTOS</th>\n",
              "      <th>02644695503</th>\n",
              "      <th>50000957779</th>\n",
              "      <th>VEREADOR</th>\n",
              "      <th>BA</th>\n",
              "      <th>PAULO AFONSO</th>\n",
              "      <td>37408.00</td>\n",
              "    </tr>\n",
              "    <tr>\n",
              "      <th>ÍVAI NEPOMUCENO FERREIRA</th>\n",
              "      <th>45986029968</th>\n",
              "      <th>160000834689</th>\n",
              "      <th>VEREADOR</th>\n",
              "      <th>PR</th>\n",
              "      <th>SANTA IZABEL DO OESTE</th>\n",
              "      <td>245000.00</td>\n",
              "    </tr>\n",
              "    <tr>\n",
              "      <th>ÓSIO DE JESUS DE SOUSA SAMPAIO</th>\n",
              "      <th>07657234253</th>\n",
              "      <th>140001148320</th>\n",
              "      <th>VICE-PREFEITO</th>\n",
              "      <th>PA</th>\n",
              "      <th>TERRA ALTA</th>\n",
              "      <td>234000.00</td>\n",
              "    </tr>\n",
              "    <tr>\n",
              "      <th>ÔNIO EMMANUEL LYRA</th>\n",
              "      <th>67584640400</th>\n",
              "      <th>150000941706</th>\n",
              "      <th>PREFEITO</th>\n",
              "      <th>PB</th>\n",
              "      <th>ESPERANÇA</th>\n",
              "      <td>360000.00</td>\n",
              "    </tr>\n",
              "    <tr>\n",
              "      <th>ÚRSULA MARIA BARBOSA NUNES</th>\n",
              "      <th>02970351420</th>\n",
              "      <th>170001175831</th>\n",
              "      <th>VEREADOR</th>\n",
              "      <th>PE</th>\n",
              "      <th>LIMOEIRO</th>\n",
              "      <td>65500.00</td>\n",
              "    </tr>\n",
              "  </tbody>\n",
              "</table>\n",
              "<p>340885 rows × 1 columns</p>\n",
              "</div>\n",
              "    <div class=\"colab-df-buttons\">\n",
              "\n",
              "  <div class=\"colab-df-container\">\n",
              "    <button class=\"colab-df-convert\" onclick=\"convertToInteractive('df-ace957d2-f78e-4018-94a8-7e9f77922c37')\"\n",
              "            title=\"Convert this dataframe to an interactive table.\"\n",
              "            style=\"display:none;\">\n",
              "\n",
              "  <svg xmlns=\"http://www.w3.org/2000/svg\" height=\"24px\" viewBox=\"0 -960 960 960\">\n",
              "    <path d=\"M120-120v-720h720v720H120Zm60-500h600v-160H180v160Zm220 220h160v-160H400v160Zm0 220h160v-160H400v160ZM180-400h160v-160H180v160Zm440 0h160v-160H620v160ZM180-180h160v-160H180v160Zm440 0h160v-160H620v160Z\"/>\n",
              "  </svg>\n",
              "    </button>\n",
              "\n",
              "  <style>\n",
              "    .colab-df-container {\n",
              "      display:flex;\n",
              "      gap: 12px;\n",
              "    }\n",
              "\n",
              "    .colab-df-convert {\n",
              "      background-color: #E8F0FE;\n",
              "      border: none;\n",
              "      border-radius: 50%;\n",
              "      cursor: pointer;\n",
              "      display: none;\n",
              "      fill: #1967D2;\n",
              "      height: 32px;\n",
              "      padding: 0 0 0 0;\n",
              "      width: 32px;\n",
              "    }\n",
              "\n",
              "    .colab-df-convert:hover {\n",
              "      background-color: #E2EBFA;\n",
              "      box-shadow: 0px 1px 2px rgba(60, 64, 67, 0.3), 0px 1px 3px 1px rgba(60, 64, 67, 0.15);\n",
              "      fill: #174EA6;\n",
              "    }\n",
              "\n",
              "    .colab-df-buttons div {\n",
              "      margin-bottom: 4px;\n",
              "    }\n",
              "\n",
              "    [theme=dark] .colab-df-convert {\n",
              "      background-color: #3B4455;\n",
              "      fill: #D2E3FC;\n",
              "    }\n",
              "\n",
              "    [theme=dark] .colab-df-convert:hover {\n",
              "      background-color: #434B5C;\n",
              "      box-shadow: 0px 1px 3px 1px rgba(0, 0, 0, 0.15);\n",
              "      filter: drop-shadow(0px 1px 2px rgba(0, 0, 0, 0.3));\n",
              "      fill: #FFFFFF;\n",
              "    }\n",
              "  </style>\n",
              "\n",
              "    <script>\n",
              "      const buttonEl =\n",
              "        document.querySelector('#df-ace957d2-f78e-4018-94a8-7e9f77922c37 button.colab-df-convert');\n",
              "      buttonEl.style.display =\n",
              "        google.colab.kernel.accessAllowed ? 'block' : 'none';\n",
              "\n",
              "      async function convertToInteractive(key) {\n",
              "        const element = document.querySelector('#df-ace957d2-f78e-4018-94a8-7e9f77922c37');\n",
              "        const dataTable =\n",
              "          await google.colab.kernel.invokeFunction('convertToInteractive',\n",
              "                                                    [key], {});\n",
              "        if (!dataTable) return;\n",
              "\n",
              "        const docLinkHtml = 'Like what you see? Visit the ' +\n",
              "          '<a target=\"_blank\" href=https://colab.research.google.com/notebooks/data_table.ipynb>data table notebook</a>'\n",
              "          + ' to learn more about interactive tables.';\n",
              "        element.innerHTML = '';\n",
              "        dataTable['output_type'] = 'display_data';\n",
              "        await google.colab.output.renderOutput(dataTable, element);\n",
              "        const docLink = document.createElement('div');\n",
              "        docLink.innerHTML = docLinkHtml;\n",
              "        element.appendChild(docLink);\n",
              "      }\n",
              "    </script>\n",
              "  </div>\n",
              "\n",
              "\n",
              "<div id=\"df-2d7c9190-e827-4c4f-9bad-d3baeae12a92\">\n",
              "  <button class=\"colab-df-quickchart\" onclick=\"quickchart('df-2d7c9190-e827-4c4f-9bad-d3baeae12a92')\"\n",
              "            title=\"Suggest charts\"\n",
              "            style=\"display:none;\">\n",
              "\n",
              "<svg xmlns=\"http://www.w3.org/2000/svg\" height=\"24px\"viewBox=\"0 0 24 24\"\n",
              "     width=\"24px\">\n",
              "    <g>\n",
              "        <path d=\"M19 3H5c-1.1 0-2 .9-2 2v14c0 1.1.9 2 2 2h14c1.1 0 2-.9 2-2V5c0-1.1-.9-2-2-2zM9 17H7v-7h2v7zm4 0h-2V7h2v10zm4 0h-2v-4h2v4z\"/>\n",
              "    </g>\n",
              "</svg>\n",
              "  </button>\n",
              "\n",
              "<style>\n",
              "  .colab-df-quickchart {\n",
              "      --bg-color: #E8F0FE;\n",
              "      --fill-color: #1967D2;\n",
              "      --hover-bg-color: #E2EBFA;\n",
              "      --hover-fill-color: #174EA6;\n",
              "      --disabled-fill-color: #AAA;\n",
              "      --disabled-bg-color: #DDD;\n",
              "  }\n",
              "\n",
              "  [theme=dark] .colab-df-quickchart {\n",
              "      --bg-color: #3B4455;\n",
              "      --fill-color: #D2E3FC;\n",
              "      --hover-bg-color: #434B5C;\n",
              "      --hover-fill-color: #FFFFFF;\n",
              "      --disabled-bg-color: #3B4455;\n",
              "      --disabled-fill-color: #666;\n",
              "  }\n",
              "\n",
              "  .colab-df-quickchart {\n",
              "    background-color: var(--bg-color);\n",
              "    border: none;\n",
              "    border-radius: 50%;\n",
              "    cursor: pointer;\n",
              "    display: none;\n",
              "    fill: var(--fill-color);\n",
              "    height: 32px;\n",
              "    padding: 0;\n",
              "    width: 32px;\n",
              "  }\n",
              "\n",
              "  .colab-df-quickchart:hover {\n",
              "    background-color: var(--hover-bg-color);\n",
              "    box-shadow: 0 1px 2px rgba(60, 64, 67, 0.3), 0 1px 3px 1px rgba(60, 64, 67, 0.15);\n",
              "    fill: var(--button-hover-fill-color);\n",
              "  }\n",
              "\n",
              "  .colab-df-quickchart-complete:disabled,\n",
              "  .colab-df-quickchart-complete:disabled:hover {\n",
              "    background-color: var(--disabled-bg-color);\n",
              "    fill: var(--disabled-fill-color);\n",
              "    box-shadow: none;\n",
              "  }\n",
              "\n",
              "  .colab-df-spinner {\n",
              "    border: 2px solid var(--fill-color);\n",
              "    border-color: transparent;\n",
              "    border-bottom-color: var(--fill-color);\n",
              "    animation:\n",
              "      spin 1s steps(1) infinite;\n",
              "  }\n",
              "\n",
              "  @keyframes spin {\n",
              "    0% {\n",
              "      border-color: transparent;\n",
              "      border-bottom-color: var(--fill-color);\n",
              "      border-left-color: var(--fill-color);\n",
              "    }\n",
              "    20% {\n",
              "      border-color: transparent;\n",
              "      border-left-color: var(--fill-color);\n",
              "      border-top-color: var(--fill-color);\n",
              "    }\n",
              "    30% {\n",
              "      border-color: transparent;\n",
              "      border-left-color: var(--fill-color);\n",
              "      border-top-color: var(--fill-color);\n",
              "      border-right-color: var(--fill-color);\n",
              "    }\n",
              "    40% {\n",
              "      border-color: transparent;\n",
              "      border-right-color: var(--fill-color);\n",
              "      border-top-color: var(--fill-color);\n",
              "    }\n",
              "    60% {\n",
              "      border-color: transparent;\n",
              "      border-right-color: var(--fill-color);\n",
              "    }\n",
              "    80% {\n",
              "      border-color: transparent;\n",
              "      border-right-color: var(--fill-color);\n",
              "      border-bottom-color: var(--fill-color);\n",
              "    }\n",
              "    90% {\n",
              "      border-color: transparent;\n",
              "      border-bottom-color: var(--fill-color);\n",
              "    }\n",
              "  }\n",
              "</style>\n",
              "\n",
              "  <script>\n",
              "    async function quickchart(key) {\n",
              "      const quickchartButtonEl =\n",
              "        document.querySelector('#' + key + ' button');\n",
              "      quickchartButtonEl.disabled = true;  // To prevent multiple clicks.\n",
              "      quickchartButtonEl.classList.add('colab-df-spinner');\n",
              "      try {\n",
              "        const charts = await google.colab.kernel.invokeFunction(\n",
              "            'suggestCharts', [key], {});\n",
              "      } catch (error) {\n",
              "        console.error('Error during call to suggestCharts:', error);\n",
              "      }\n",
              "      quickchartButtonEl.classList.remove('colab-df-spinner');\n",
              "      quickchartButtonEl.classList.add('colab-df-quickchart-complete');\n",
              "    }\n",
              "    (() => {\n",
              "      let quickchartButtonEl =\n",
              "        document.querySelector('#df-2d7c9190-e827-4c4f-9bad-d3baeae12a92 button');\n",
              "      quickchartButtonEl.style.display =\n",
              "        google.colab.kernel.accessAllowed ? 'block' : 'none';\n",
              "    })();\n",
              "  </script>\n",
              "</div>\n",
              "    </div>\n",
              "  </div>\n"
            ],
            "application/vnd.google.colaboratory.intrinsic+json": {
              "type": "dataframe"
            }
          },
          "metadata": {},
          "execution_count": 28
        }
      ]
    },
    {
      "cell_type": "code",
      "source": [
        "# Exemplo de um filtro\n",
        "bens_candidatos_2020[bens_candidatos_2020['SQ_CANDIDATO'] == '180000950074'][['DS_BEM_CANDIDATO', 'VR_BEM_CANDIDATO']]"
      ],
      "metadata": {
        "colab": {
          "base_uri": "https://localhost:8080/",
          "height": 1000
        },
        "id": "9doMX5O7cRSR",
        "outputId": "70af385d-6067-4925-e8ae-bb023d5478b9"
      },
      "execution_count": null,
      "outputs": [
        {
          "output_type": "execute_result",
          "data": {
            "text/plain": [
              "                                          DS_BEM_CANDIDATO  VR_BEM_CANDIDATO\n",
              "24974    IMOVEL RURAL COM AREA DE 180 HA, DNOMINADA SAN...          49000.00\n",
              "129932   SALDO NO FUNDO DE ACOES 6813, NA CAIXA ECONOMI...           5000.00\n",
              "153025   UM LOTE DE TERRENO MEDINDO 33.0X34.0, SITUADO ...          45000.00\n",
              "160739   4,0 HA DE UM TERRENO LOCALIZADO NA ZONA URBANA...          23000.00\n",
              "160752   SALDO NO BB FUNDO DE ACOES IBRX INDEXADO, AGEN...          13999.90\n",
              "161044   EMPRESTIMO EFETIVADO AO SR. ANTONIO PAULO DE S...         133000.00\n",
              "191483   UMA GLEBA DE TERRA COM AREA DE 29.19.50, NO LU...          12000.00\n",
              "208189   UM LOTE DE TERRENO MEDINDO 10 X 33 COM UMA CAS...          20000.00\n",
              "208763   U LOTE DE TERRENO, MEDINDO 10.0 X 30.0, SITUAD...          15000.00\n",
              "212974   SALDO EM CONTA CORRENTE NO BANCO SANTANDER CNP...           1761.55\n",
              "254801   UM LOTE DE TERREN MEDINDO 35 X 18 M, SITUADO N...          30000.00\n",
              "255446   UM LOTE DE TERRENO DE N. 13, Q-P, DO LOTEAMENT...          17013.83\n",
              "256441   SALDO DE FUNDO DE RENDA FIXA FIC FI MASTE DI, ...          50000.00\n",
              "289265   SALDO DE INVSTIMENTO EM ACOES DA PETROBRAS, NO...            591.60\n",
              "289690   UMA GLEBA DE TERRA COM AREA DE 46.60.78 HA, SI...          47000.00\n",
              "290410   DUAS GLEBAS DE TERRA, SENDO UMA LOCALIZADA NA ...          35000.00\n",
              "448087   SALDO EM APLICACAO FINANCEIRA, BB AUTOMATICO E...          25049.14\n",
              "451119   SALDO EM CONTA CORRETE NO BANCO DO BRASIL, VGB...         167825.00\n",
              "451589                                        6 SEMOVENTES           4000.00\n",
              "471726   UM TERRENO 54 X 36,5 SITUADO NA RUA HONORIO DE...          20000.00\n",
              "473902   SALDO EM FUNDO DE INVESTIMENTO SB FI ACOES NO ...          67297.51\n",
              "504730                                  194 CABECA DE GADO         118500.00\n",
              "506221   CAMIONETE CHEVROLET D-20, CABINE DUPLA ANO 199...          20000.00\n",
              "597156   UMA GLEBA DE TERRA COM AREA DE 27.27.40 HA, DE...          11000.00\n",
              "597726   88,00 METROS NA RUA DOMINGOS FELIX DO MONTE E ...          12000.00\n",
              "597727   UM LOTE DE TERRENO MEDINDO 8 X 33 COM UMA CASA...          20000.00\n",
              "670202              2 LOTES DE TERRA NA CIDADE DE ALTOS-PI           1800.00\n",
              "716735   UMA GLEBA DE TERRA COM UMA AREA DE 41.25.00 HA...          88000.00\n",
              "931258   2 LOTES DE TERRENOS, UM MEDINDO 20M DE FRENTE ...          30000.00\n",
              "931528   UM TERRENO NA ZONA URBANA DA CIDADE DE BENEDIT...         100000.00\n",
              "997594   AV JOSE FRANCISCO DE ALMEIDA NETO SETOR C, BAI...           6000.00\n",
              "997780                       Casa no Centro de Beneditinos          29000.00\n",
              "997878        HILLUX ANO 2013, MODELO 2013, PLACA OUD-9434         110000.00\n",
              "998089   SALDO EM FUNDO DE RENDA FIXA LP IND 20 ML, CNP...         406641.43\n",
              "998090   CASA LOCALIZADA NA RUA ALOISIO RIBEIRO, N. 323...          24500.00\n",
              "998660   08 LOTES DE TERRENOS, QUADRA K LOTEAMENTO NOEL...          37000.00\n",
              "998671                    533 CABEÇAS DE OVINOS E CAPRINOS          54450.00\n",
              "1002183  SALDO EM CONTA CORRENTE NA CAIXA ECONOMICA FED...           5349.74\n",
              "1011411  DUAS GLEBAS DE TERRA, A 1. COM AREA DE 52.56,0...          45000.00"
            ],
            "text/html": [
              "\n",
              "  <div id=\"df-447c8096-46a5-4f7b-9040-79f158c7dd13\" class=\"colab-df-container\">\n",
              "    <div>\n",
              "<style scoped>\n",
              "    .dataframe tbody tr th:only-of-type {\n",
              "        vertical-align: middle;\n",
              "    }\n",
              "\n",
              "    .dataframe tbody tr th {\n",
              "        vertical-align: top;\n",
              "    }\n",
              "\n",
              "    .dataframe thead th {\n",
              "        text-align: right;\n",
              "    }\n",
              "</style>\n",
              "<table border=\"1\" class=\"dataframe\">\n",
              "  <thead>\n",
              "    <tr style=\"text-align: right;\">\n",
              "      <th></th>\n",
              "      <th>DS_BEM_CANDIDATO</th>\n",
              "      <th>VR_BEM_CANDIDATO</th>\n",
              "    </tr>\n",
              "  </thead>\n",
              "  <tbody>\n",
              "    <tr>\n",
              "      <th>24974</th>\n",
              "      <td>IMOVEL RURAL COM AREA DE 180 HA, DNOMINADA SAN...</td>\n",
              "      <td>49000.00</td>\n",
              "    </tr>\n",
              "    <tr>\n",
              "      <th>129932</th>\n",
              "      <td>SALDO NO FUNDO DE ACOES 6813, NA CAIXA ECONOMI...</td>\n",
              "      <td>5000.00</td>\n",
              "    </tr>\n",
              "    <tr>\n",
              "      <th>153025</th>\n",
              "      <td>UM LOTE DE TERRENO MEDINDO 33.0X34.0, SITUADO ...</td>\n",
              "      <td>45000.00</td>\n",
              "    </tr>\n",
              "    <tr>\n",
              "      <th>160739</th>\n",
              "      <td>4,0 HA DE UM TERRENO LOCALIZADO NA ZONA URBANA...</td>\n",
              "      <td>23000.00</td>\n",
              "    </tr>\n",
              "    <tr>\n",
              "      <th>160752</th>\n",
              "      <td>SALDO NO BB FUNDO DE ACOES IBRX INDEXADO, AGEN...</td>\n",
              "      <td>13999.90</td>\n",
              "    </tr>\n",
              "    <tr>\n",
              "      <th>161044</th>\n",
              "      <td>EMPRESTIMO EFETIVADO AO SR. ANTONIO PAULO DE S...</td>\n",
              "      <td>133000.00</td>\n",
              "    </tr>\n",
              "    <tr>\n",
              "      <th>191483</th>\n",
              "      <td>UMA GLEBA DE TERRA COM AREA DE 29.19.50, NO LU...</td>\n",
              "      <td>12000.00</td>\n",
              "    </tr>\n",
              "    <tr>\n",
              "      <th>208189</th>\n",
              "      <td>UM LOTE DE TERRENO MEDINDO 10 X 33 COM UMA CAS...</td>\n",
              "      <td>20000.00</td>\n",
              "    </tr>\n",
              "    <tr>\n",
              "      <th>208763</th>\n",
              "      <td>U LOTE DE TERRENO, MEDINDO 10.0 X 30.0, SITUAD...</td>\n",
              "      <td>15000.00</td>\n",
              "    </tr>\n",
              "    <tr>\n",
              "      <th>212974</th>\n",
              "      <td>SALDO EM CONTA CORRENTE NO BANCO SANTANDER CNP...</td>\n",
              "      <td>1761.55</td>\n",
              "    </tr>\n",
              "    <tr>\n",
              "      <th>254801</th>\n",
              "      <td>UM LOTE DE TERREN MEDINDO 35 X 18 M, SITUADO N...</td>\n",
              "      <td>30000.00</td>\n",
              "    </tr>\n",
              "    <tr>\n",
              "      <th>255446</th>\n",
              "      <td>UM LOTE DE TERRENO DE N. 13, Q-P, DO LOTEAMENT...</td>\n",
              "      <td>17013.83</td>\n",
              "    </tr>\n",
              "    <tr>\n",
              "      <th>256441</th>\n",
              "      <td>SALDO DE FUNDO DE RENDA FIXA FIC FI MASTE DI, ...</td>\n",
              "      <td>50000.00</td>\n",
              "    </tr>\n",
              "    <tr>\n",
              "      <th>289265</th>\n",
              "      <td>SALDO DE INVSTIMENTO EM ACOES DA PETROBRAS, NO...</td>\n",
              "      <td>591.60</td>\n",
              "    </tr>\n",
              "    <tr>\n",
              "      <th>289690</th>\n",
              "      <td>UMA GLEBA DE TERRA COM AREA DE 46.60.78 HA, SI...</td>\n",
              "      <td>47000.00</td>\n",
              "    </tr>\n",
              "    <tr>\n",
              "      <th>290410</th>\n",
              "      <td>DUAS GLEBAS DE TERRA, SENDO UMA LOCALIZADA NA ...</td>\n",
              "      <td>35000.00</td>\n",
              "    </tr>\n",
              "    <tr>\n",
              "      <th>448087</th>\n",
              "      <td>SALDO EM APLICACAO FINANCEIRA, BB AUTOMATICO E...</td>\n",
              "      <td>25049.14</td>\n",
              "    </tr>\n",
              "    <tr>\n",
              "      <th>451119</th>\n",
              "      <td>SALDO EM CONTA CORRETE NO BANCO DO BRASIL, VGB...</td>\n",
              "      <td>167825.00</td>\n",
              "    </tr>\n",
              "    <tr>\n",
              "      <th>451589</th>\n",
              "      <td>6 SEMOVENTES</td>\n",
              "      <td>4000.00</td>\n",
              "    </tr>\n",
              "    <tr>\n",
              "      <th>471726</th>\n",
              "      <td>UM TERRENO 54 X 36,5 SITUADO NA RUA HONORIO DE...</td>\n",
              "      <td>20000.00</td>\n",
              "    </tr>\n",
              "    <tr>\n",
              "      <th>473902</th>\n",
              "      <td>SALDO EM FUNDO DE INVESTIMENTO SB FI ACOES NO ...</td>\n",
              "      <td>67297.51</td>\n",
              "    </tr>\n",
              "    <tr>\n",
              "      <th>504730</th>\n",
              "      <td>194 CABECA DE GADO</td>\n",
              "      <td>118500.00</td>\n",
              "    </tr>\n",
              "    <tr>\n",
              "      <th>506221</th>\n",
              "      <td>CAMIONETE CHEVROLET D-20, CABINE DUPLA ANO 199...</td>\n",
              "      <td>20000.00</td>\n",
              "    </tr>\n",
              "    <tr>\n",
              "      <th>597156</th>\n",
              "      <td>UMA GLEBA DE TERRA COM AREA DE 27.27.40 HA, DE...</td>\n",
              "      <td>11000.00</td>\n",
              "    </tr>\n",
              "    <tr>\n",
              "      <th>597726</th>\n",
              "      <td>88,00 METROS NA RUA DOMINGOS FELIX DO MONTE E ...</td>\n",
              "      <td>12000.00</td>\n",
              "    </tr>\n",
              "    <tr>\n",
              "      <th>597727</th>\n",
              "      <td>UM LOTE DE TERRENO MEDINDO 8 X 33 COM UMA CASA...</td>\n",
              "      <td>20000.00</td>\n",
              "    </tr>\n",
              "    <tr>\n",
              "      <th>670202</th>\n",
              "      <td>2 LOTES DE TERRA NA CIDADE DE ALTOS-PI</td>\n",
              "      <td>1800.00</td>\n",
              "    </tr>\n",
              "    <tr>\n",
              "      <th>716735</th>\n",
              "      <td>UMA GLEBA DE TERRA COM UMA AREA DE 41.25.00 HA...</td>\n",
              "      <td>88000.00</td>\n",
              "    </tr>\n",
              "    <tr>\n",
              "      <th>931258</th>\n",
              "      <td>2 LOTES DE TERRENOS, UM MEDINDO 20M DE FRENTE ...</td>\n",
              "      <td>30000.00</td>\n",
              "    </tr>\n",
              "    <tr>\n",
              "      <th>931528</th>\n",
              "      <td>UM TERRENO NA ZONA URBANA DA CIDADE DE BENEDIT...</td>\n",
              "      <td>100000.00</td>\n",
              "    </tr>\n",
              "    <tr>\n",
              "      <th>997594</th>\n",
              "      <td>AV JOSE FRANCISCO DE ALMEIDA NETO SETOR C, BAI...</td>\n",
              "      <td>6000.00</td>\n",
              "    </tr>\n",
              "    <tr>\n",
              "      <th>997780</th>\n",
              "      <td>Casa no Centro de Beneditinos</td>\n",
              "      <td>29000.00</td>\n",
              "    </tr>\n",
              "    <tr>\n",
              "      <th>997878</th>\n",
              "      <td>HILLUX ANO 2013, MODELO 2013, PLACA OUD-9434</td>\n",
              "      <td>110000.00</td>\n",
              "    </tr>\n",
              "    <tr>\n",
              "      <th>998089</th>\n",
              "      <td>SALDO EM FUNDO DE RENDA FIXA LP IND 20 ML, CNP...</td>\n",
              "      <td>406641.43</td>\n",
              "    </tr>\n",
              "    <tr>\n",
              "      <th>998090</th>\n",
              "      <td>CASA LOCALIZADA NA RUA ALOISIO RIBEIRO, N. 323...</td>\n",
              "      <td>24500.00</td>\n",
              "    </tr>\n",
              "    <tr>\n",
              "      <th>998660</th>\n",
              "      <td>08 LOTES DE TERRENOS, QUADRA K LOTEAMENTO NOEL...</td>\n",
              "      <td>37000.00</td>\n",
              "    </tr>\n",
              "    <tr>\n",
              "      <th>998671</th>\n",
              "      <td>533 CABEÇAS DE OVINOS E CAPRINOS</td>\n",
              "      <td>54450.00</td>\n",
              "    </tr>\n",
              "    <tr>\n",
              "      <th>1002183</th>\n",
              "      <td>SALDO EM CONTA CORRENTE NA CAIXA ECONOMICA FED...</td>\n",
              "      <td>5349.74</td>\n",
              "    </tr>\n",
              "    <tr>\n",
              "      <th>1011411</th>\n",
              "      <td>DUAS GLEBAS DE TERRA, A 1. COM AREA DE 52.56,0...</td>\n",
              "      <td>45000.00</td>\n",
              "    </tr>\n",
              "  </tbody>\n",
              "</table>\n",
              "</div>\n",
              "    <div class=\"colab-df-buttons\">\n",
              "\n",
              "  <div class=\"colab-df-container\">\n",
              "    <button class=\"colab-df-convert\" onclick=\"convertToInteractive('df-447c8096-46a5-4f7b-9040-79f158c7dd13')\"\n",
              "            title=\"Convert this dataframe to an interactive table.\"\n",
              "            style=\"display:none;\">\n",
              "\n",
              "  <svg xmlns=\"http://www.w3.org/2000/svg\" height=\"24px\" viewBox=\"0 -960 960 960\">\n",
              "    <path d=\"M120-120v-720h720v720H120Zm60-500h600v-160H180v160Zm220 220h160v-160H400v160Zm0 220h160v-160H400v160ZM180-400h160v-160H180v160Zm440 0h160v-160H620v160ZM180-180h160v-160H180v160Zm440 0h160v-160H620v160Z\"/>\n",
              "  </svg>\n",
              "    </button>\n",
              "\n",
              "  <style>\n",
              "    .colab-df-container {\n",
              "      display:flex;\n",
              "      gap: 12px;\n",
              "    }\n",
              "\n",
              "    .colab-df-convert {\n",
              "      background-color: #E8F0FE;\n",
              "      border: none;\n",
              "      border-radius: 50%;\n",
              "      cursor: pointer;\n",
              "      display: none;\n",
              "      fill: #1967D2;\n",
              "      height: 32px;\n",
              "      padding: 0 0 0 0;\n",
              "      width: 32px;\n",
              "    }\n",
              "\n",
              "    .colab-df-convert:hover {\n",
              "      background-color: #E2EBFA;\n",
              "      box-shadow: 0px 1px 2px rgba(60, 64, 67, 0.3), 0px 1px 3px 1px rgba(60, 64, 67, 0.15);\n",
              "      fill: #174EA6;\n",
              "    }\n",
              "\n",
              "    .colab-df-buttons div {\n",
              "      margin-bottom: 4px;\n",
              "    }\n",
              "\n",
              "    [theme=dark] .colab-df-convert {\n",
              "      background-color: #3B4455;\n",
              "      fill: #D2E3FC;\n",
              "    }\n",
              "\n",
              "    [theme=dark] .colab-df-convert:hover {\n",
              "      background-color: #434B5C;\n",
              "      box-shadow: 0px 1px 3px 1px rgba(0, 0, 0, 0.15);\n",
              "      filter: drop-shadow(0px 1px 2px rgba(0, 0, 0, 0.3));\n",
              "      fill: #FFFFFF;\n",
              "    }\n",
              "  </style>\n",
              "\n",
              "    <script>\n",
              "      const buttonEl =\n",
              "        document.querySelector('#df-447c8096-46a5-4f7b-9040-79f158c7dd13 button.colab-df-convert');\n",
              "      buttonEl.style.display =\n",
              "        google.colab.kernel.accessAllowed ? 'block' : 'none';\n",
              "\n",
              "      async function convertToInteractive(key) {\n",
              "        const element = document.querySelector('#df-447c8096-46a5-4f7b-9040-79f158c7dd13');\n",
              "        const dataTable =\n",
              "          await google.colab.kernel.invokeFunction('convertToInteractive',\n",
              "                                                    [key], {});\n",
              "        if (!dataTable) return;\n",
              "\n",
              "        const docLinkHtml = 'Like what you see? Visit the ' +\n",
              "          '<a target=\"_blank\" href=https://colab.research.google.com/notebooks/data_table.ipynb>data table notebook</a>'\n",
              "          + ' to learn more about interactive tables.';\n",
              "        element.innerHTML = '';\n",
              "        dataTable['output_type'] = 'display_data';\n",
              "        await google.colab.output.renderOutput(dataTable, element);\n",
              "        const docLink = document.createElement('div');\n",
              "        docLink.innerHTML = docLinkHtml;\n",
              "        element.appendChild(docLink);\n",
              "      }\n",
              "    </script>\n",
              "  </div>\n",
              "\n",
              "\n",
              "<div id=\"df-67203198-891e-49c9-a77b-18674fc78b8e\">\n",
              "  <button class=\"colab-df-quickchart\" onclick=\"quickchart('df-67203198-891e-49c9-a77b-18674fc78b8e')\"\n",
              "            title=\"Suggest charts\"\n",
              "            style=\"display:none;\">\n",
              "\n",
              "<svg xmlns=\"http://www.w3.org/2000/svg\" height=\"24px\"viewBox=\"0 0 24 24\"\n",
              "     width=\"24px\">\n",
              "    <g>\n",
              "        <path d=\"M19 3H5c-1.1 0-2 .9-2 2v14c0 1.1.9 2 2 2h14c1.1 0 2-.9 2-2V5c0-1.1-.9-2-2-2zM9 17H7v-7h2v7zm4 0h-2V7h2v10zm4 0h-2v-4h2v4z\"/>\n",
              "    </g>\n",
              "</svg>\n",
              "  </button>\n",
              "\n",
              "<style>\n",
              "  .colab-df-quickchart {\n",
              "      --bg-color: #E8F0FE;\n",
              "      --fill-color: #1967D2;\n",
              "      --hover-bg-color: #E2EBFA;\n",
              "      --hover-fill-color: #174EA6;\n",
              "      --disabled-fill-color: #AAA;\n",
              "      --disabled-bg-color: #DDD;\n",
              "  }\n",
              "\n",
              "  [theme=dark] .colab-df-quickchart {\n",
              "      --bg-color: #3B4455;\n",
              "      --fill-color: #D2E3FC;\n",
              "      --hover-bg-color: #434B5C;\n",
              "      --hover-fill-color: #FFFFFF;\n",
              "      --disabled-bg-color: #3B4455;\n",
              "      --disabled-fill-color: #666;\n",
              "  }\n",
              "\n",
              "  .colab-df-quickchart {\n",
              "    background-color: var(--bg-color);\n",
              "    border: none;\n",
              "    border-radius: 50%;\n",
              "    cursor: pointer;\n",
              "    display: none;\n",
              "    fill: var(--fill-color);\n",
              "    height: 32px;\n",
              "    padding: 0;\n",
              "    width: 32px;\n",
              "  }\n",
              "\n",
              "  .colab-df-quickchart:hover {\n",
              "    background-color: var(--hover-bg-color);\n",
              "    box-shadow: 0 1px 2px rgba(60, 64, 67, 0.3), 0 1px 3px 1px rgba(60, 64, 67, 0.15);\n",
              "    fill: var(--button-hover-fill-color);\n",
              "  }\n",
              "\n",
              "  .colab-df-quickchart-complete:disabled,\n",
              "  .colab-df-quickchart-complete:disabled:hover {\n",
              "    background-color: var(--disabled-bg-color);\n",
              "    fill: var(--disabled-fill-color);\n",
              "    box-shadow: none;\n",
              "  }\n",
              "\n",
              "  .colab-df-spinner {\n",
              "    border: 2px solid var(--fill-color);\n",
              "    border-color: transparent;\n",
              "    border-bottom-color: var(--fill-color);\n",
              "    animation:\n",
              "      spin 1s steps(1) infinite;\n",
              "  }\n",
              "\n",
              "  @keyframes spin {\n",
              "    0% {\n",
              "      border-color: transparent;\n",
              "      border-bottom-color: var(--fill-color);\n",
              "      border-left-color: var(--fill-color);\n",
              "    }\n",
              "    20% {\n",
              "      border-color: transparent;\n",
              "      border-left-color: var(--fill-color);\n",
              "      border-top-color: var(--fill-color);\n",
              "    }\n",
              "    30% {\n",
              "      border-color: transparent;\n",
              "      border-left-color: var(--fill-color);\n",
              "      border-top-color: var(--fill-color);\n",
              "      border-right-color: var(--fill-color);\n",
              "    }\n",
              "    40% {\n",
              "      border-color: transparent;\n",
              "      border-right-color: var(--fill-color);\n",
              "      border-top-color: var(--fill-color);\n",
              "    }\n",
              "    60% {\n",
              "      border-color: transparent;\n",
              "      border-right-color: var(--fill-color);\n",
              "    }\n",
              "    80% {\n",
              "      border-color: transparent;\n",
              "      border-right-color: var(--fill-color);\n",
              "      border-bottom-color: var(--fill-color);\n",
              "    }\n",
              "    90% {\n",
              "      border-color: transparent;\n",
              "      border-bottom-color: var(--fill-color);\n",
              "    }\n",
              "  }\n",
              "</style>\n",
              "\n",
              "  <script>\n",
              "    async function quickchart(key) {\n",
              "      const quickchartButtonEl =\n",
              "        document.querySelector('#' + key + ' button');\n",
              "      quickchartButtonEl.disabled = true;  // To prevent multiple clicks.\n",
              "      quickchartButtonEl.classList.add('colab-df-spinner');\n",
              "      try {\n",
              "        const charts = await google.colab.kernel.invokeFunction(\n",
              "            'suggestCharts', [key], {});\n",
              "      } catch (error) {\n",
              "        console.error('Error during call to suggestCharts:', error);\n",
              "      }\n",
              "      quickchartButtonEl.classList.remove('colab-df-spinner');\n",
              "      quickchartButtonEl.classList.add('colab-df-quickchart-complete');\n",
              "    }\n",
              "    (() => {\n",
              "      let quickchartButtonEl =\n",
              "        document.querySelector('#df-67203198-891e-49c9-a77b-18674fc78b8e button');\n",
              "      quickchartButtonEl.style.display =\n",
              "        google.colab.kernel.accessAllowed ? 'block' : 'none';\n",
              "    })();\n",
              "  </script>\n",
              "</div>\n",
              "    </div>\n",
              "  </div>\n"
            ],
            "application/vnd.google.colaboratory.intrinsic+json": {
              "type": "dataframe",
              "summary": "{\n  \"name\": \"bens_candidatos_2020[bens_candidatos_2020['SQ_CANDIDATO'] == '180000950074'][['DS_BEM_CANDIDATO', 'VR_BEM_CANDIDATO']]\",\n  \"rows\": 39,\n  \"fields\": [\n    {\n      \"column\": \"DS_BEM_CANDIDATO\",\n      \"properties\": {\n        \"dtype\": \"string\",\n        \"num_unique_values\": 39,\n        \"samples\": [\n          \"SALDO EM FUNDO DE RENDA FIXA LP IND 20 ML, CNPJ 02.297.087/0001-36, JUNTO BANCO DO BRASIL AGENCIA 5027-X, CONTA CORRENTE N. 108641-3\",\n          \"533 CABE\\u00c7AS DE OVINOS E CAPRINOS\",\n          \"SALDO NO BB FUNDO DE ACOES IBRX INDEXADO, AGENCIA 5027-X, CONTA N. 1086413, ESTILO, NO BANCO DOBRASIL\"\n        ],\n        \"semantic_type\": \"\",\n        \"description\": \"\"\n      }\n    },\n    {\n      \"column\": \"VR_BEM_CANDIDATO\",\n      \"properties\": {\n        \"dtype\": \"number\",\n        \"std\": 70884.42992894507,\n        \"min\": 591.6,\n        \"max\": 406641.43,\n        \"num_unique_values\": 33,\n        \"samples\": [\n          54450.0,\n          35000.0,\n          29000.0\n        ],\n        \"semantic_type\": \"\",\n        \"description\": \"\"\n      }\n    }\n  ]\n}"
            }
          },
          "metadata": {},
          "execution_count": 29
        }
      ]
    },
    {
      "cell_type": "code",
      "source": [],
      "metadata": {
        "id": "joJW8Xhb6Nxn"
      },
      "execution_count": null,
      "outputs": []
    },
    {
      "cell_type": "code",
      "source": [
        "# Procura os bens apenas dos 50 candidatos de amostra\n",
        "candidatos_50_bens = pd.merge(candidatos_50, bens_candidatos_2020, left_on='SQ_CANDIDATO', right_on='SQ_CANDIDATO')"
      ],
      "metadata": {
        "id": "sT5ANXLW6OEu"
      },
      "execution_count": null,
      "outputs": []
    },
    {
      "cell_type": "code",
      "source": [
        "# Salva o arquivo\n",
        "candidatos_50_bens.to_excel('/drive/My Drive/Data-driven/abraji/datathon_espm_2024/dados/amostras/bens_50_candidatos_aleatorios_brasil.xlsx',sheet_name='Sheet1',index=False)"
      ],
      "metadata": {
        "id": "CH725Hda6tJN"
      },
      "execution_count": null,
      "outputs": []
    },
    {
      "cell_type": "code",
      "source": [],
      "metadata": {
        "id": "WZTIemVRdt87"
      },
      "execution_count": null,
      "outputs": []
    },
    {
      "cell_type": "code",
      "source": [],
      "metadata": {
        "id": "uflR3IHyd2b7"
      },
      "execution_count": 6,
      "outputs": []
    },
    {
      "cell_type": "markdown",
      "source": [
        "# Receitas candidatos 2020"
      ],
      "metadata": {
        "id": "VqMJz--b3Eam"
      }
    },
    {
      "cell_type": "code",
      "source": [
        "path = \"/drive/My Drive/Data-driven/abraji/datathon_espm_2024/dados/receitas_candidatos_2020_BRASIL.csv\"\n",
        "receitas_candidatos_2020 = pd.read_csv(path, sep=';', encoding='latin_1', dtype = 'str')\n",
        "receitas_candidatos_2020.info()"
      ],
      "metadata": {
        "colab": {
          "base_uri": "https://localhost:8080/"
        },
        "id": "u8qoAFVVd_PD",
        "outputId": "7ef7d527-2f1c-4499-b40f-5675d24ad57c"
      },
      "execution_count": 7,
      "outputs": [
        {
          "output_type": "stream",
          "name": "stdout",
          "text": [
            "<class 'pandas.core.frame.DataFrame'>\n",
            "RangeIndex: 2338223 entries, 0 to 2338222\n",
            "Data columns (total 60 columns):\n",
            " #   Column                         Dtype \n",
            "---  ------                         ----- \n",
            " 0   DT_GERACAO                     object\n",
            " 1   HH_GERACAO                     object\n",
            " 2   ANO_ELEICAO                    object\n",
            " 3   CD_TIPO_ELEICAO                object\n",
            " 4   NM_TIPO_ELEICAO                object\n",
            " 5   CD_ELEICAO                     object\n",
            " 6   DS_ELEICAO                     object\n",
            " 7   DT_ELEICAO                     object\n",
            " 8   ST_TURNO                       object\n",
            " 9   TP_PRESTACAO_CONTAS            object\n",
            " 10  DT_PRESTACAO_CONTAS            object\n",
            " 11  SQ_PRESTADOR_CONTAS            object\n",
            " 12  SG_UF                          object\n",
            " 13  SG_UE                          object\n",
            " 14  NM_UE                          object\n",
            " 15  NR_CNPJ_PRESTADOR_CONTA        object\n",
            " 16  CD_CARGO                       object\n",
            " 17  DS_CARGO                       object\n",
            " 18  SQ_CANDIDATO                   object\n",
            " 19  NR_CANDIDATO                   object\n",
            " 20  NM_CANDIDATO                   object\n",
            " 21  NR_CPF_CANDIDATO               object\n",
            " 22  NR_CPF_VICE_CANDIDATO          object\n",
            " 23  NR_PARTIDO                     object\n",
            " 24  SG_PARTIDO                     object\n",
            " 25  NM_PARTIDO                     object\n",
            " 26  CD_FONTE_RECEITA               object\n",
            " 27  DS_FONTE_RECEITA               object\n",
            " 28  CD_ORIGEM_RECEITA              object\n",
            " 29  DS_ORIGEM_RECEITA              object\n",
            " 30  CD_NATUREZA_RECEITA            object\n",
            " 31  DS_NATUREZA_RECEITA            object\n",
            " 32  CD_ESPECIE_RECEITA             object\n",
            " 33  DS_ESPECIE_RECEITA             object\n",
            " 34  CD_CNAE_DOADOR                 object\n",
            " 35  DS_CNAE_DOADOR                 object\n",
            " 36  NR_CPF_CNPJ_DOADOR             object\n",
            " 37  NM_DOADOR                      object\n",
            " 38  NM_DOADOR_RFB                  object\n",
            " 39  CD_ESFERA_PARTIDARIA_DOADOR    object\n",
            " 40  DS_ESFERA_PARTIDARIA_DOADOR    object\n",
            " 41  SG_UF_DOADOR                   object\n",
            " 42  CD_MUNICIPIO_DOADOR            object\n",
            " 43  NM_MUNICIPIO_DOADOR            object\n",
            " 44  SQ_CANDIDATO_DOADOR            object\n",
            " 45  NR_CANDIDATO_DOADOR            object\n",
            " 46  CD_CARGO_CANDIDATO_DOADOR      object\n",
            " 47  DS_CARGO_CANDIDATO_DOADOR      object\n",
            " 48  NR_PARTIDO_DOADOR              object\n",
            " 49  SG_PARTIDO_DOADOR              object\n",
            " 50  NM_PARTIDO_DOADOR              object\n",
            " 51  NR_RECIBO_DOACAO               object\n",
            " 52  NR_DOCUMENTO_DOACAO            object\n",
            " 53  SQ_RECEITA                     object\n",
            " 54  DT_RECEITA                     object\n",
            " 55  DS_RECEITA                     object\n",
            " 56  VR_RECEITA                     object\n",
            " 57  DS_NATUREZA_RECURSO_ESTIMAVEL  object\n",
            " 58  DS_GENERO                      object\n",
            " 59  DS_COR_RACA                    object\n",
            "dtypes: object(60)\n",
            "memory usage: 1.0+ GB\n"
          ]
        }
      ]
    },
    {
      "cell_type": "code",
      "source": [
        "receitas_candidatos_2020['VR_RECEITA'] = receitas_candidatos_2020['VR_RECEITA'].str.replace('.', '')\n",
        "receitas_candidatos_2020['VR_RECEITA'] = receitas_candidatos_2020['VR_RECEITA'].str.replace(',', '.')\n",
        "receitas_candidatos_2020['VR_RECEITA'] = receitas_candidatos_2020['VR_RECEITA'].astype(float)"
      ],
      "metadata": {
        "id": "86j8aY0SeJIe"
      },
      "execution_count": 8,
      "outputs": []
    },
    {
      "cell_type": "code",
      "source": [],
      "metadata": {
        "id": "XYBfyAnTAjn6"
      },
      "execution_count": null,
      "outputs": []
    },
    {
      "cell_type": "code",
      "source": [
        "#receitas_pesquisa = receitas_candidatos_2020[(receitas_candidatos_2020['SQ_RECEITA'] == '18586197')]\n",
        "#receitas_pesquisa.shape\n",
        "#receitas_pesquisa.to_excel('/drive/My Drive/Data-driven/abraji/datathon_espm_2024/dados/amostras/doacoes_luci.xlsx',sheet_name='Sheet1',index=False)"
      ],
      "metadata": {
        "colab": {
          "base_uri": "https://localhost:8080/"
        },
        "id": "cy8-UelkAj2k",
        "outputId": "61aa5d77-4bbd-4bad-9f41-57bbc5016dd1"
      },
      "execution_count": null,
      "outputs": [
        {
          "output_type": "execute_result",
          "data": {
            "text/plain": [
              "(1, 60)"
            ]
          },
          "metadata": {},
          "execution_count": 31
        }
      ]
    },
    {
      "cell_type": "code",
      "source": [],
      "metadata": {
        "id": "-GLr__qe2hCK"
      },
      "execution_count": null,
      "outputs": []
    },
    {
      "cell_type": "code",
      "source": [
        "# Tipos das receitas\n",
        "receitas_candidatos_2020['DS_RECEITA'].unique()"
      ],
      "metadata": {
        "colab": {
          "base_uri": "https://localhost:8080/"
        },
        "id": "S6n95bqO2hHN",
        "outputId": "571ccba7-066c-4e0c-d677-8b892ecb016d"
      },
      "execution_count": 9,
      "outputs": [
        {
          "output_type": "execute_result",
          "data": {
            "text/plain": [
              "array(['SANTINHOS 4X1 COUCHE', 'SANTINHOS 4X0 SULFITE',\n",
              "       'SANTINHO 4X1 COUCHE', ...,\n",
              "       'TERMO DE CESSAO DE SERVIÇO DE ASSESSORIA E CONSULTORIA PARA CAMPANHA ELEITORAL',\n",
              "       'DOACAO DOS SERVICOS DE SECRETARIO DA CAMPANHO ELEITORAL',\n",
              "       'TERMO DE CESSAO DE SERVIÇOS CONTABIS PARA PRESTAÇÃO DE CONTAS ELEITORAL'],\n",
              "      dtype=object)"
            ]
          },
          "metadata": {},
          "execution_count": 9
        }
      ]
    },
    {
      "cell_type": "code",
      "source": [],
      "metadata": {
        "id": "rVLMHRl175kX"
      },
      "execution_count": null,
      "outputs": []
    },
    {
      "cell_type": "code",
      "source": [
        "receitas_candidatos_50_bens = pd.merge(candidatos_50, receitas_candidatos_2020, left_on='NR_CPF_CANDIDATO', right_on='NR_CPF_CANDIDATO')"
      ],
      "metadata": {
        "id": "AMLrOX0c75tX"
      },
      "execution_count": null,
      "outputs": []
    },
    {
      "cell_type": "code",
      "source": [
        "receitas_candidatos_50_bens.to_excel('/drive/My Drive/Data-driven/abraji/datathon_espm_2024/dados/amostras/receitas_50_candidatos_aleatorios_brasil.xlsx',sheet_name='Sheet1',index=False)"
      ],
      "metadata": {
        "id": "--4f0PFc8OGw"
      },
      "execution_count": null,
      "outputs": []
    },
    {
      "cell_type": "code",
      "source": [],
      "metadata": {
        "id": "x_F1FD0pfm2U"
      },
      "execution_count": null,
      "outputs": []
    },
    {
      "cell_type": "code",
      "source": [],
      "metadata": {
        "id": "g8CvA_5ODkmi"
      },
      "execution_count": null,
      "outputs": []
    },
    {
      "cell_type": "markdown",
      "source": [
        "# Receitas originárias candidatos 2020"
      ],
      "metadata": {
        "id": "n-IWdQnG3VUw"
      }
    },
    {
      "cell_type": "code",
      "source": [
        "# SQ_RECEITA de receitas_candidatos_2020_BRASIL é o mesmo de SQ_RECEITA de receitas_candidatos_doador_originario_2020_BRASIL"
      ],
      "metadata": {
        "id": "ude9zhccDISM"
      },
      "execution_count": null,
      "outputs": []
    },
    {
      "cell_type": "code",
      "source": [
        "path = \"/drive/My Drive/Data-driven/abraji/datathon_espm_2024/dados/receitas_candidatos_doador_originario_2020_BRASIL.csv\"\n",
        "receitas_originarias_candidatos_2020 = pd.read_csv(path, sep=';', encoding='latin_1', dtype = 'str')\n",
        "receitas_originarias_candidatos_2020.info()"
      ],
      "metadata": {
        "colab": {
          "base_uri": "https://localhost:8080/"
        },
        "id": "h-h459VtftTM",
        "outputId": "561b98d8-e208-4ff4-9e6f-e9e33637cbbd"
      },
      "execution_count": null,
      "outputs": [
        {
          "output_type": "stream",
          "name": "stdout",
          "text": [
            "<class 'pandas.core.frame.DataFrame'>\n",
            "RangeIndex: 662320 entries, 0 to 662319\n",
            "Data columns (total 23 columns):\n",
            " #   Column                         Non-Null Count   Dtype \n",
            "---  ------                         --------------   ----- \n",
            " 0   DT_GERACAO                     662320 non-null  object\n",
            " 1   HH_GERACAO                     662320 non-null  object\n",
            " 2   ANO_ELEICAO                    662320 non-null  object\n",
            " 3   CD_TIPO_ELEICAO                662320 non-null  object\n",
            " 4   NM_TIPO_ELEICAO                662320 non-null  object\n",
            " 5   CD_ELEICAO                     662320 non-null  object\n",
            " 6   DS_ELEICAO                     662320 non-null  object\n",
            " 7   DT_ELEICAO                     662320 non-null  object\n",
            " 8   ST_TURNO                       662320 non-null  object\n",
            " 9   TP_PRESTACAO_CONTAS            662320 non-null  object\n",
            " 10  DT_PRESTACAO_CONTAS            662320 non-null  object\n",
            " 11  SQ_PRESTADOR_CONTAS            662320 non-null  object\n",
            " 12  SG_UF                          662320 non-null  object\n",
            " 13  NR_CPF_CNPJ_DOADOR_ORIGINARIO  662320 non-null  object\n",
            " 14  NM_DOADOR_ORIGINARIO           662320 non-null  object\n",
            " 15  NM_DOADOR_ORIGINARIO_RFB       662320 non-null  object\n",
            " 16  TP_DOADOR_ORIGINARIO           662320 non-null  object\n",
            " 17  CD_CNAE_DOADOR_ORIGINARIO      662320 non-null  object\n",
            " 18  DS_CNAE_DOADOR_ORIGINARIO      662320 non-null  object\n",
            " 19  SQ_RECEITA                     662320 non-null  object\n",
            " 20  DT_RECEITA                     145146 non-null  object\n",
            " 21  DS_RECEITA                     662320 non-null  object\n",
            " 22  VR_RECEITA                     662320 non-null  object\n",
            "dtypes: object(23)\n",
            "memory usage: 116.2+ MB\n"
          ]
        }
      ]
    },
    {
      "cell_type": "code",
      "source": [
        "receitas_originarias_candidatos_2020['VR_RECEITA'] = receitas_originarias_candidatos_2020['VR_RECEITA'].str.replace('.', '')\n",
        "receitas_originarias_candidatos_2020['VR_RECEITA'] = receitas_originarias_candidatos_2020['VR_RECEITA'].str.replace(',', '.')\n",
        "receitas_originarias_candidatos_2020['VR_RECEITA'] = receitas_originarias_candidatos_2020['VR_RECEITA'].astype(float)"
      ],
      "metadata": {
        "id": "mWk3EzIWf-4E"
      },
      "execution_count": null,
      "outputs": []
    },
    {
      "cell_type": "code",
      "source": [
        "receitas_originarias_candidatos_2020['TP_DOADOR_ORIGINARIO'].unique()"
      ],
      "metadata": {
        "colab": {
          "base_uri": "https://localhost:8080/"
        },
        "id": "qGrNf2_bsHIT",
        "outputId": "d5fd2ae1-6faf-4a92-d9aa-ba08f8d8b0c5"
      },
      "execution_count": null,
      "outputs": [
        {
          "output_type": "execute_result",
          "data": {
            "text/plain": [
              "array(['F', '#NULO#'], dtype=object)"
            ]
          },
          "metadata": {},
          "execution_count": 77
        }
      ]
    },
    {
      "cell_type": "code",
      "source": [
        "# Tipos das receitas originárias\n",
        "receitas_originarias_candidatos_2020['DS_RECEITA'].unique()"
      ],
      "metadata": {
        "colab": {
          "base_uri": "https://localhost:8080/"
        },
        "id": "HWzEc_rgDeIS",
        "outputId": "30e3b3a7-6f88-48da-a89e-0dbba55d9553"
      },
      "execution_count": null,
      "outputs": [
        {
          "output_type": "execute_result",
          "data": {
            "text/plain": [
              "array(['Recursos de Financiamento Coletivo', '#NULO#',\n",
              "       'Recursos de partido político', 'Recursos de outros candidatos'],\n",
              "      dtype=object)"
            ]
          },
          "metadata": {},
          "execution_count": 78
        }
      ]
    },
    {
      "cell_type": "code",
      "source": [
        "#receitas_originarias_candidatos_2020_100 = receitas_originarias_candidatos_2020.sample(n=100)\n",
        "#receitas_originarias_candidatos_2020_100.to_excel('/drive/My Drive/Data-driven/abraji/datathon_espm_2024/dados/amostras/receitas_candidatos_doador_originario_2020_BRASIL.xlsx',sheet_name='Sheet1',index=False)"
      ],
      "metadata": {
        "id": "KaZkXuAatmnD"
      },
      "execution_count": null,
      "outputs": []
    },
    {
      "cell_type": "code",
      "source": [],
      "metadata": {
        "id": "LrJ6RO5g_N3S"
      },
      "execution_count": null,
      "outputs": []
    },
    {
      "cell_type": "code",
      "source": [
        "receitas_originarias_candidatos_50 = pd.merge(receitas_candidatos_50_bens, receitas_originarias_candidatos_2020, left_on='SQ_RECEITA', right_on='SQ_RECEITA')"
      ],
      "metadata": {
        "id": "-kPbRfa-tmrF"
      },
      "execution_count": null,
      "outputs": []
    },
    {
      "cell_type": "code",
      "source": [
        "receitas_originarias_candidatos_50 = receitas_originarias_candidatos_50[(receitas_originarias_candidatos_50['NR_CPF_CNPJ_DOADOR_ORIGINARIO'] != '-1')] # exclui as diretas, inválidas"
      ],
      "metadata": {
        "id": "gPxyqLnHD1cL"
      },
      "execution_count": null,
      "outputs": []
    },
    {
      "cell_type": "code",
      "source": [
        "receitas_originarias_candidatos_50.shape"
      ],
      "metadata": {
        "colab": {
          "base_uri": "https://localhost:8080/"
        },
        "id": "Zqs5CFYPtyZD",
        "outputId": "34e6ae83-2879-4768-9489-3851ad3e52d5"
      },
      "execution_count": null,
      "outputs": [
        {
          "output_type": "execute_result",
          "data": {
            "text/plain": [
              "(2, 152)"
            ]
          },
          "metadata": {},
          "execution_count": 81
        }
      ]
    },
    {
      "cell_type": "code",
      "source": [
        "receitas_originarias_candidatos_50.to_excel('/drive/My Drive/Data-driven/abraji/datathon_espm_2024/dados/amostras/receitas_originarias_candidatos_50.xlsx',sheet_name='Sheet1',index=False)"
      ],
      "metadata": {
        "id": "iK3JTGrWJN7l"
      },
      "execution_count": null,
      "outputs": []
    },
    {
      "cell_type": "code",
      "source": [],
      "metadata": {
        "id": "umUhyITY_JGa"
      },
      "execution_count": null,
      "outputs": []
    },
    {
      "cell_type": "code",
      "source": [],
      "metadata": {
        "id": "6jOHXjg_gEX1"
      },
      "execution_count": null,
      "outputs": []
    },
    {
      "cell_type": "markdown",
      "source": [
        "# Despesas contratadas candidatos 2020"
      ],
      "metadata": {
        "id": "BIdXZCuy3YZ8"
      }
    },
    {
      "cell_type": "code",
      "source": [
        "path = \"/drive/My Drive/Data-driven/abraji/datathon_espm_2024/dados/despesas_contratadas_candidatos_2020_BRASIL.csv\"\n",
        "despesas_contratadas_candidatos_2020 = pd.read_csv(path, sep=';', encoding='latin_1', dtype = 'str')\n",
        "despesas_contratadas_candidatos_2020.info()"
      ],
      "metadata": {
        "id": "_09o4QIfgRYF",
        "colab": {
          "base_uri": "https://localhost:8080/"
        },
        "outputId": "ea6f4090-d20b-4648-9a9d-fbd2733d3a55"
      },
      "execution_count": null,
      "outputs": [
        {
          "output_type": "stream",
          "name": "stdout",
          "text": [
            "<class 'pandas.core.frame.DataFrame'>\n",
            "RangeIndex: 4105320 entries, 0 to 4105319\n",
            "Data columns (total 53 columns):\n",
            " #   Column                     Dtype \n",
            "---  ------                     ----- \n",
            " 0   DT_GERACAO                 object\n",
            " 1   HH_GERACAO                 object\n",
            " 2   ANO_ELEICAO                object\n",
            " 3   CD_TIPO_ELEICAO            object\n",
            " 4   NM_TIPO_ELEICAO            object\n",
            " 5   CD_ELEICAO                 object\n",
            " 6   DS_ELEICAO                 object\n",
            " 7   DT_ELEICAO                 object\n",
            " 8   ST_TURNO                   object\n",
            " 9   TP_PRESTACAO_CONTAS        object\n",
            " 10  DT_PRESTACAO_CONTAS        object\n",
            " 11  SQ_PRESTADOR_CONTAS        object\n",
            " 12  SG_UF                      object\n",
            " 13  SG_UE                      object\n",
            " 14  NM_UE                      object\n",
            " 15  NR_CNPJ_PRESTADOR_CONTA    object\n",
            " 16  CD_CARGO                   object\n",
            " 17  DS_CARGO                   object\n",
            " 18  SQ_CANDIDATO               object\n",
            " 19  NR_CANDIDATO               object\n",
            " 20  NM_CANDIDATO               object\n",
            " 21  NR_CPF_CANDIDATO           object\n",
            " 22  NR_CPF_VICE_CANDIDATO      object\n",
            " 23  NR_PARTIDO                 object\n",
            " 24  SG_PARTIDO                 object\n",
            " 25  NM_PARTIDO                 object\n",
            " 26  CD_TIPO_FORNECEDOR         object\n",
            " 27  DS_TIPO_FORNECEDOR         object\n",
            " 28  CD_CNAE_FORNECEDOR         object\n",
            " 29  DS_CNAE_FORNECEDOR         object\n",
            " 30  NR_CPF_CNPJ_FORNECEDOR     object\n",
            " 31  NM_FORNECEDOR              object\n",
            " 32  NM_FORNECEDOR_RFB          object\n",
            " 33  CD_ESFERA_PART_FORNECEDOR  object\n",
            " 34  DS_ESFERA_PART_FORNECEDOR  object\n",
            " 35  SG_UF_FORNECEDOR           object\n",
            " 36  CD_MUNICIPIO_FORNECEDOR    object\n",
            " 37  NM_MUNICIPIO_FORNECEDOR    object\n",
            " 38  SQ_CANDIDATO_FORNECEDOR    object\n",
            " 39  NR_CANDIDATO_FORNECEDOR    object\n",
            " 40  CD_CARGO_FORNECEDOR        object\n",
            " 41  DS_CARGO_FORNECEDOR        object\n",
            " 42  NR_PARTIDO_FORNECEDOR      object\n",
            " 43  SG_PARTIDO_FORNECEDOR      object\n",
            " 44  NM_PARTIDO_FORNECEDOR      object\n",
            " 45  DS_TIPO_DOCUMENTO          object\n",
            " 46  NR_DOCUMENTO               object\n",
            " 47  CD_ORIGEM_DESPESA          object\n",
            " 48  DS_ORIGEM_DESPESA          object\n",
            " 49  SQ_DESPESA                 object\n",
            " 50  DT_DESPESA                 object\n",
            " 51  DS_DESPESA                 object\n",
            " 52  VR_DESPESA_CONTRATADA      object\n",
            "dtypes: object(53)\n",
            "memory usage: 1.6+ GB\n"
          ]
        }
      ]
    },
    {
      "cell_type": "code",
      "source": [],
      "metadata": {
        "id": "9cUf9Nr3hneP"
      },
      "execution_count": null,
      "outputs": []
    },
    {
      "cell_type": "code",
      "source": [
        "despesas_contratadas_candidatos_2020['VR_DESPESA_CONTRATADA'] = despesas_contratadas_candidatos_2020['VR_DESPESA_CONTRATADA'].str.replace('.', '')\n",
        "despesas_contratadas_candidatos_2020['VR_DESPESA_CONTRATADA'] = despesas_contratadas_candidatos_2020['VR_DESPESA_CONTRATADA'].str.replace(',', '.')\n",
        "despesas_contratadas_candidatos_2020['VR_DESPESA_CONTRATADA'] = despesas_contratadas_candidatos_2020['VR_DESPESA_CONTRATADA'].astype(float)"
      ],
      "metadata": {
        "id": "nRh6fzCdgXql"
      },
      "execution_count": null,
      "outputs": []
    },
    {
      "cell_type": "code",
      "source": [],
      "metadata": {
        "id": "_sOsuV08hTHm"
      },
      "execution_count": null,
      "outputs": []
    },
    {
      "cell_type": "code",
      "source": [
        "despesas_contratatadas_candidatos_50 = pd.merge(candidatos_50, despesas_contratadas_candidatos_2020, left_on='NR_CPF_CANDIDATO', right_on='NR_CPF_CANDIDATO')\n",
        "despesas_contratatadas_candidatos_50.shape"
      ],
      "metadata": {
        "colab": {
          "base_uri": "https://localhost:8080/"
        },
        "id": "4ZXARA9cFNSi",
        "outputId": "f6ba31b8-124f-497b-905c-bd7423f78594"
      },
      "execution_count": null,
      "outputs": [
        {
          "output_type": "execute_result",
          "data": {
            "text/plain": [
              "(199, 123)"
            ]
          },
          "metadata": {},
          "execution_count": 89
        }
      ]
    },
    {
      "cell_type": "code",
      "source": [
        "despesas_contratatadas_candidatos_50.to_excel('/drive/My Drive/Data-driven/abraji/datathon_espm_2024/dados/amostras/despesas_contratatadas_candidatos_50.xlsx',sheet_name='Sheet1',index=False)"
      ],
      "metadata": {
        "id": "k5Icv2TzFp6M"
      },
      "execution_count": null,
      "outputs": []
    },
    {
      "cell_type": "code",
      "source": [],
      "metadata": {
        "id": "gvqoFHrNF6RT"
      },
      "execution_count": null,
      "outputs": []
    },
    {
      "cell_type": "code",
      "source": [
        "despesas_contratadas_candidatos_2020['SQ_DESPESA'].unique()"
      ],
      "metadata": {
        "colab": {
          "base_uri": "https://localhost:8080/"
        },
        "id": "jz2kle_yJZsc",
        "outputId": "c75d78eb-0a7e-45e0-f359-aea4b58a4c98"
      },
      "execution_count": null,
      "outputs": [
        {
          "output_type": "execute_result",
          "data": {
            "text/plain": [
              "array(['-1', '38474189', '36661126', ..., '38996469', '36871597',\n",
              "       '36903915'], dtype=object)"
            ]
          },
          "metadata": {},
          "execution_count": 91
        }
      ]
    },
    {
      "cell_type": "code",
      "source": [
        "#despesas_contratadas_candidatos_2020_100 = despesas_contratadas_candidatos_2020.sample(n=100)\n",
        "#despesas_contratadas_candidatos_2020_100.to_excel('/drive/My Drive/Data-driven/abraji/datathon_espm_2024/dados/amostras/despesas_contratadas.xlsx',sheet_name='Sheet1',index=False)"
      ],
      "metadata": {
        "id": "Z0GhskVHJ0Tz"
      },
      "execution_count": null,
      "outputs": []
    },
    {
      "cell_type": "code",
      "source": [],
      "metadata": {
        "id": "VL5pykBwFOHz"
      },
      "execution_count": null,
      "outputs": []
    },
    {
      "cell_type": "code",
      "source": [],
      "metadata": {
        "id": "kZePd1omhptW"
      },
      "execution_count": null,
      "outputs": []
    },
    {
      "cell_type": "code",
      "source": [],
      "metadata": {
        "id": "EVul52u73ijp"
      },
      "execution_count": 11,
      "outputs": []
    },
    {
      "cell_type": "code",
      "source": [],
      "metadata": {
        "id": "AVAO1Ff04g79"
      },
      "execution_count": null,
      "outputs": []
    },
    {
      "cell_type": "markdown",
      "source": [
        "# Despesas pagas candidatos 2020"
      ],
      "metadata": {
        "id": "jx-vmSLa3jFV"
      }
    },
    {
      "cell_type": "code",
      "source": [
        "path = \"/drive/My Drive/Data-driven/abraji/datathon_espm_2024/dados/despesas_pagas_candidatos_2020_BRASIL.csv\"\n",
        "despesas_pagas_candidatos_2020 = pd.read_csv(path, sep=';', encoding='latin_1', dtype = 'str')\n",
        "despesas_pagas_candidatos_2020.info()"
      ],
      "metadata": {
        "colab": {
          "base_uri": "https://localhost:8080/"
        },
        "id": "lKGLFbYDhsRP",
        "outputId": "c0c5cc00-5f4b-4f9b-bf28-90ee3fed9805"
      },
      "execution_count": null,
      "outputs": [
        {
          "output_type": "stream",
          "name": "stdout",
          "text": [
            "<class 'pandas.core.frame.DataFrame'>\n",
            "RangeIndex: 3328448 entries, 0 to 3328447\n",
            "Data columns (total 28 columns):\n",
            " #   Column                   Dtype \n",
            "---  ------                   ----- \n",
            " 0   DT_GERACAO               object\n",
            " 1   HH_GERACAO               object\n",
            " 2   ANO_ELEICAO              object\n",
            " 3   CD_TIPO_ELEICAO          object\n",
            " 4   NM_TIPO_ELEICAO          object\n",
            " 5   CD_ELEICAO               object\n",
            " 6   DS_ELEICAO               object\n",
            " 7   DT_ELEICAO               object\n",
            " 8   ST_TURNO                 object\n",
            " 9   TP_PRESTACAO_CONTAS      object\n",
            " 10  DT_PRESTACAO_CONTAS      object\n",
            " 11  SQ_PRESTADOR_CONTAS      object\n",
            " 12  SG_UF                    object\n",
            " 13  DS_TIPO_DOCUMENTO        object\n",
            " 14  NR_DOCUMENTO             object\n",
            " 15  CD_FONTE_DESPESA         object\n",
            " 16  DS_FONTE_DESPESA         object\n",
            " 17  CD_ORIGEM_DESPESA        object\n",
            " 18  DS_ORIGEM_DESPESA        object\n",
            " 19  CD_NATUREZA_DESPESA      object\n",
            " 20  DS_NATUREZA_DESPESA      object\n",
            " 21  CD_ESPECIE_RECURSO       object\n",
            " 22  DS_ESPECIE_RECURSO       object\n",
            " 23  SQ_DESPESA               object\n",
            " 24  SQ_PARCELAMENTO_DESPESA  object\n",
            " 25  DT_PAGTO_DESPESA         object\n",
            " 26  DS_DESPESA               object\n",
            " 27  VR_PAGTO_DESPESA         object\n",
            "dtypes: object(28)\n",
            "memory usage: 711.0+ MB\n"
          ]
        }
      ]
    },
    {
      "cell_type": "code",
      "source": [
        "despesas_pagas_candidatos_2020['VR_PAGTO_DESPESA'] = despesas_pagas_candidatos_2020['VR_PAGTO_DESPESA'].str.replace('.', '')\n",
        "despesas_pagas_candidatos_2020['VR_PAGTO_DESPESA'] = despesas_pagas_candidatos_2020['VR_PAGTO_DESPESA'].str.replace(',', '.')\n",
        "despesas_pagas_candidatos_2020['VR_PAGTO_DESPESA'] = despesas_pagas_candidatos_2020['VR_PAGTO_DESPESA'].astype(float)"
      ],
      "metadata": {
        "id": "L-gCVPmeh2XX"
      },
      "execution_count": null,
      "outputs": []
    },
    {
      "cell_type": "code",
      "source": [],
      "metadata": {
        "id": "03MVkGxSGWyk"
      },
      "execution_count": null,
      "outputs": []
    },
    {
      "cell_type": "code",
      "source": [
        "despesas_pagas_candidatos_50 = pd.merge(despesas_pagas_candidatos_2020, despesas_contratatadas_candidatos_50, left_on='SQ_DESPESA', right_on='SQ_DESPESA')\n",
        "despesas_pagas_candidatos_50 = despesas_pagas_candidatos_50[(despesas_pagas_candidatos_50['SQ_DESPESA'] != '-1')] # exclui as inválidas\n",
        "despesas_pagas_candidatos_50.shape"
      ],
      "metadata": {
        "id": "govIRxmFinge",
        "colab": {
          "base_uri": "https://localhost:8080/"
        },
        "outputId": "91c57018-b75b-4b53-b62b-dff6c3545d05"
      },
      "execution_count": null,
      "outputs": [
        {
          "output_type": "execute_result",
          "data": {
            "text/plain": [
              "(183, 150)"
            ]
          },
          "metadata": {},
          "execution_count": 94
        }
      ]
    },
    {
      "cell_type": "code",
      "source": [
        "despesas_pagas_candidatos_50.to_excel('/drive/My Drive/Data-driven/abraji/datathon_espm_2024/dados/amostras/despesas_pagas_candidatos_50.xlsx',sheet_name='Sheet1',index=False)"
      ],
      "metadata": {
        "id": "aG1KprOGGhiM"
      },
      "execution_count": null,
      "outputs": []
    },
    {
      "cell_type": "code",
      "source": [],
      "metadata": {
        "id": "PTY5kR9tIYHt"
      },
      "execution_count": null,
      "outputs": []
    },
    {
      "cell_type": "code",
      "source": [],
      "metadata": {
        "id": "Tupp10KOIYPE"
      },
      "execution_count": null,
      "outputs": []
    }
  ]
}